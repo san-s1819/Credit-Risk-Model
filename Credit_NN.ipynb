{
 "cells": [
  {
   "cell_type": "code",
   "execution_count": 1,
   "id": "45cb9e82",
   "metadata": {},
   "outputs": [],
   "source": [
    "import pandas as pd\n",
    "import numpy as np\n",
    "import matplotlib as plt\n",
    "import seaborn as sb\n",
    "import random"
   ]
  },
  {
   "cell_type": "code",
   "execution_count": 2,
   "id": "2af568f3",
   "metadata": {},
   "outputs": [],
   "source": [
    "train_data = pd.read_csv(\"Train_s2encoded_1Mil.csv\")\n",
    "test_data1 = pd.read_csv(\"Test_1dateencoded_1Mil.csv\")\n",
    "test_data2 = pd.read_csv(\"Test_2dateencoded_1Mil.csv\")"
   ]
  },
  {
   "cell_type": "code",
   "execution_count": 3,
   "id": "095de338",
   "metadata": {},
   "outputs": [],
   "source": [
    "final_features = [\"P_2\",\"B_1\",\"B_9\",\"B_2\",\"R_1\",\"B_3\",\"D_51\",\"S_3\",\"B_38\",\"R_3\",\"D_45\",\"D_79\",\"D_48\",\"D_44\",\"R_27\",\"B_8\",\"D_61\",\"S_23\",\"B_5\",\"P_3\",\"D_75\",\"D_112\",\"D_46\",\"B_4\",\"D_41\",\"O\",\"D_43\",\"B_18\",\"B_11\",\"D_39\",\"CO\",\"B_24\",\"2017\",\"D_50\",\"B_33\",\"B_7\",\"S_7\",\"D_77\",\"D_52\"\n",
    "]"
   ]
  },
  {
   "cell_type": "code",
   "execution_count": 4,
   "id": "ad6f1838",
   "metadata": {},
   "outputs": [],
   "source": [
    "X_train = train_data.drop([\"target\"], axis = 1)\n",
    "Y_train = train_data[\"target\"]\n",
    "\n",
    "X_test1 = train_data.drop([\"target\"], axis = 1)\n",
    "Y_test1 = train_data[\"target\"]\n",
    "\n",
    "X_test2 = train_data.drop([\"target\"], axis = 1)\n",
    "Y_test2 = train_data[\"target\"]\n",
    "\n",
    "X_train = X_train[final_features]\n",
    "\n",
    "X_test1 = X_test1[final_features]\n",
    "X_test2 = X_test2[final_features]"
   ]
  },
  {
   "cell_type": "code",
   "execution_count": 7,
   "id": "6042fcf9",
   "metadata": {},
   "outputs": [
    {
     "data": {
      "text/plain": [
       "(691122, 186)"
      ]
     },
     "execution_count": 7,
     "metadata": {},
     "output_type": "execute_result"
    }
   ],
   "source": [
    "train_data.shape"
   ]
  },
  {
   "cell_type": "code",
   "execution_count": 6,
   "id": "2a6f3fe1",
   "metadata": {},
   "outputs": [],
   "source": [
    "from sklearn.preprocessing import StandardScaler\n",
    "sc = StandardScaler()\n",
    "sc.fit(X_train)\n",
    "\n",
    "X_train_normalized = sc.transform(X_train)\n",
    "X_test1_normalized = sc.transform(X_test1)\n",
    "X_test2_normalized = sc.transform(X_test2)\n",
    "\n",
    "X_train_normalized = pd.DataFrame(X_train_normalized, columns=X_train.columns)\n",
    "X_test1_normalized = pd.DataFrame(X_test1_normalized, columns=X_test1.columns)\n",
    "X_test2_normalized = pd.DataFrame(X_test2_normalized, columns=X_test2.columns)"
   ]
  }
 ],
 "metadata": {
  "kernelspec": {
   "display_name": "Python 3 (ipykernel)",
   "language": "python",
   "name": "python3"
  },
  "language_info": {
   "codemirror_mode": {
    "name": "ipython",
    "version": 3
   },
   "file_extension": ".py",
   "mimetype": "text/x-python",
   "name": "python",
   "nbconvert_exporter": "python",
   "pygments_lexer": "ipython3",
   "version": "3.9.13"
  }
 },
 "nbformat": 4,
 "nbformat_minor": 5
}
